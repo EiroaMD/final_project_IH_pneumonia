{
 "cells": [
  {
   "cell_type": "markdown",
   "metadata": {},
   "source": [
    "# Data Cleaning "
   ]
  },
  {
   "cell_type": "markdown",
   "metadata": {},
   "source": [
    "The initial data is composed of three datasets:\n",
    "1. `stage_2_train_labels.csv`: containing the patient Id, information about coordinates that I won't be using for the current problem, and a target binary column: 1 for pneumonia and 0 for no pneumonia.\n",
    "2. `stage_2_detailed_class_info.csv`: containing the patient Id, and wether the chest X-Ray (CXR) is normal, has pneumonia or is not normal but does not have pneumonia.\n",
    "3. A corpus containing a 26684 DICOM files (.dcm), which are composed of an image and metadata about the patient and the CXR, which may be useful to our particular problem."
   ]
  },
  {
   "cell_type": "markdown",
   "metadata": {},
   "source": [
    "In the current notebook we will be importing the CSVs and dropping duplicates, joining them, dropping the columns we won't be needing and creating a new dataframe by joining both.\n",
    "\n",
    "Also, two columns, containing the names of the files both in .dcm format and .jpg will be created.\n",
    "\n",
    "Afterwards, metadata available from the .dcm files will be extracted and appended to the resulting dataframe."
   ]
  },
  {
   "cell_type": "markdown",
   "metadata": {},
   "source": [
    "## Environment "
   ]
  },
  {
   "cell_type": "markdown",
   "metadata": {},
   "source": [
    "### Imports "
   ]
  },
  {
   "cell_type": "code",
   "execution_count": null,
   "metadata": {
    "ExecuteTime": {
     "end_time": "2019-11-11T18:14:27.486053Z",
     "start_time": "2019-11-11T18:14:26.905281Z"
    }
   },
   "outputs": [],
   "source": [
    "# General imports\n",
    "import numpy as np\n",
    "import pandas as pd\n",
    "\n",
    "# System and file management\n",
    "import os\n",
    "\n",
    "# DICOM\n",
    "import pydicom\n",
    "from pydicom.filereader import dcmread"
   ]
  },
  {
   "cell_type": "markdown",
   "metadata": {},
   "source": [
    "### Functions "
   ]
  },
  {
   "cell_type": "code",
   "execution_count": 2,
   "metadata": {
    "ExecuteTime": {
     "end_time": "2019-11-11T18:14:27.494460Z",
     "start_time": "2019-11-11T18:14:27.487836Z"
    }
   },
   "outputs": [],
   "source": [
    "def dicom_info_extractor(file_path, file_name, info):\n",
    "    \"\"\"\n",
    "    This function extracts information of the metadata of a given dicom file.\n",
    "    Inputs:\n",
    "        - file_path: path of the file to parse.\n",
    "        - file_name: name of the specific file to parse.\n",
    "        - info: the exact info you want to extract. You have to choose between: 'age', 'sex' and 'pos'(position of the patient)\n",
    "    Outputs:\n",
    "        - A string containing the metadata.\n",
    "    \"\"\"\n",
    "    file = os.path.join(file_path, file_name)\n",
    "    dicom = dcmread(file)\n",
    "    \n",
    "    if info == 'age':\n",
    "        return dicom.PatientAge\n",
    "    elif info == 'sex':\n",
    "        return dicom.PatientSex\n",
    "    elif info == 'pos':\n",
    "        return dicom.ViewPosition"
   ]
  },
  {
   "cell_type": "markdown",
   "metadata": {},
   "source": [
    "### Paths "
   ]
  },
  {
   "cell_type": "code",
   "execution_count": 3,
   "metadata": {
    "ExecuteTime": {
     "end_time": "2019-11-11T18:14:27.501525Z",
     "start_time": "2019-11-11T18:14:27.497802Z"
    }
   },
   "outputs": [],
   "source": [
    "PATH = 'data/'\n",
    "CSV_PATH = os.path.join(PATH,'csv')\n",
    "IMG_POOL_PATH = os.path.join(PATH,'pool')"
   ]
  },
  {
   "cell_type": "markdown",
   "metadata": {},
   "source": [
    "## Import and arrange CSVs"
   ]
  },
  {
   "cell_type": "code",
   "execution_count": 4,
   "metadata": {
    "ExecuteTime": {
     "end_time": "2019-11-11T18:14:27.603016Z",
     "start_time": "2019-11-11T18:14:27.503458Z"
    }
   },
   "outputs": [],
   "source": [
    "# Labels CSVs\n",
    "info = pd.read_csv(os.path.join(CSV_PATH, 'stage_2_train_labels.csv')).drop_duplicates(subset='patientId')\n",
    "detailed = pd.read_csv(os.path.join(CSV_PATH, 'stage_2_detailed_class_info.csv')).drop_duplicates(subset='patientId')"
   ]
  },
  {
   "cell_type": "code",
   "execution_count": 5,
   "metadata": {
    "ExecuteTime": {
     "end_time": "2019-11-11T18:14:27.629183Z",
     "start_time": "2019-11-11T18:14:27.604632Z"
    }
   },
   "outputs": [],
   "source": [
    "# Joining both\n",
    "labels = detailed.join(info.set_index('patientId'), on='patientId', how='left').drop(columns=['x', 'y', 'width', 'height'])"
   ]
  },
  {
   "cell_type": "code",
   "execution_count": 6,
   "metadata": {
    "ExecuteTime": {
     "end_time": "2019-11-11T18:14:27.642490Z",
     "start_time": "2019-11-11T18:14:27.631095Z"
    }
   },
   "outputs": [],
   "source": [
    "# Adding .dcm extension to file name.\n",
    "labels['dcm_file_name'] = labels.patientId.apply(lambda i: i+'.dcm')"
   ]
  },
  {
   "cell_type": "code",
   "execution_count": 7,
   "metadata": {
    "ExecuteTime": {
     "end_time": "2019-11-11T18:14:27.655686Z",
     "start_time": "2019-11-11T18:14:27.644616Z"
    }
   },
   "outputs": [],
   "source": [
    "# Adding .jpg extension to file name.\n",
    "labels['jpg_file_name'] = labels.patientId.apply(lambda i: i+'.jpg')"
   ]
  },
  {
   "cell_type": "code",
   "execution_count": 8,
   "metadata": {
    "ExecuteTime": {
     "end_time": "2019-11-11T18:14:54.123173Z",
     "start_time": "2019-11-11T18:14:27.658964Z"
    }
   },
   "outputs": [],
   "source": [
    "# Extracting sex information from the images by using the function defined above:\n",
    "labels['sex'] = labels.dcm_file_name.apply(lambda x: dicom_info_extractor(file_path=IMG_POOL_PATH,\n",
    "                                                                          file_name=x,\n",
    "                                                                          info='sex'))"
   ]
  },
  {
   "cell_type": "code",
   "execution_count": 9,
   "metadata": {
    "ExecuteTime": {
     "end_time": "2019-11-11T18:15:20.410248Z",
     "start_time": "2019-11-11T18:14:54.125196Z"
    }
   },
   "outputs": [],
   "source": [
    "# Extracting age information from the images by using the function defined above:\n",
    "labels['age'] = labels.dcm_file_name.apply(lambda x: dicom_info_extractor(file_path=IMG_POOL_PATH,\n",
    "                                                                      file_name=x,\n",
    "                                                                      info='age'))"
   ]
  },
  {
   "cell_type": "code",
   "execution_count": 10,
   "metadata": {
    "ExecuteTime": {
     "end_time": "2019-11-11T18:15:48.271275Z",
     "start_time": "2019-11-11T18:15:20.411810Z"
    }
   },
   "outputs": [],
   "source": [
    "# Extracting CXR view information from the images by using the function defined above:\n",
    "labels['view'] = labels.dcm_file_name.apply(lambda x: dicom_info_extractor(file_path=IMG_POOL_PATH,\n",
    "                                                                      file_name=x,\n",
    "                                                                      info='pos'))"
   ]
  },
  {
   "cell_type": "code",
   "execution_count": 12,
   "metadata": {
    "ExecuteTime": {
     "end_time": "2019-11-11T18:15:48.293731Z",
     "start_time": "2019-11-11T18:15:48.281085Z"
    }
   },
   "outputs": [],
   "source": [
    "# Rearranging and changing column names\n",
    "labels = labels[['patientId', 'dcm_file_name', 'jpg_file_name','class', 'sex', 'age', 'view', 'Target']] # Rearranging columns.\n",
    "labels.columns = ['patient_id', 'dcm_file_name', 'jpg_file_name', 'type', 'sex', 'age', 'view', 'target'] # Changing column names."
   ]
  },
  {
   "cell_type": "code",
   "execution_count": 13,
   "metadata": {},
   "outputs": [],
   "source": [
    "# Encoding the classes to numerical values\n",
    "type_dict = {'Normal': 0, 'No Lung Opacity / Not Normal': 1, 'Lung Opacity':2}\n",
    "labels['target_3'] = labels.type.map(type_dict)"
   ]
  },
  {
   "cell_type": "code",
   "execution_count": 15,
   "metadata": {},
   "outputs": [],
   "source": [
    "# one-hot-encoding and appending to dataframe\n",
    "labels = pd.concat([labels, pd.get_dummies(labels['target_3'], prefix='type')], axis=1)"
   ]
  },
  {
   "cell_type": "code",
   "execution_count": 16,
   "metadata": {
    "ExecuteTime": {
     "end_time": "2019-11-11T18:15:48.308204Z",
     "start_time": "2019-11-11T18:15:48.295614Z"
    }
   },
   "outputs": [
    {
     "data": {
      "text/html": [
       "<div>\n",
       "<style scoped>\n",
       "    .dataframe tbody tr th:only-of-type {\n",
       "        vertical-align: middle;\n",
       "    }\n",
       "\n",
       "    .dataframe tbody tr th {\n",
       "        vertical-align: top;\n",
       "    }\n",
       "\n",
       "    .dataframe thead th {\n",
       "        text-align: right;\n",
       "    }\n",
       "</style>\n",
       "<table border=\"1\" class=\"dataframe\">\n",
       "  <thead>\n",
       "    <tr style=\"text-align: right;\">\n",
       "      <th></th>\n",
       "      <th>patient_id</th>\n",
       "      <th>dcm_file_name</th>\n",
       "      <th>jpg_file_name</th>\n",
       "      <th>type</th>\n",
       "      <th>sex</th>\n",
       "      <th>age</th>\n",
       "      <th>view</th>\n",
       "      <th>target</th>\n",
       "      <th>target_3</th>\n",
       "      <th>type_0</th>\n",
       "      <th>type_1</th>\n",
       "      <th>type_2</th>\n",
       "    </tr>\n",
       "  </thead>\n",
       "  <tbody>\n",
       "    <tr>\n",
       "      <th>0</th>\n",
       "      <td>0004cfab-14fd-4e49-80ba-63a80b6bddd6</td>\n",
       "      <td>0004cfab-14fd-4e49-80ba-63a80b6bddd6.dcm</td>\n",
       "      <td>0004cfab-14fd-4e49-80ba-63a80b6bddd6.jpg</td>\n",
       "      <td>No Lung Opacity / Not Normal</td>\n",
       "      <td>F</td>\n",
       "      <td>51</td>\n",
       "      <td>PA</td>\n",
       "      <td>0</td>\n",
       "      <td>1</td>\n",
       "      <td>0</td>\n",
       "      <td>1</td>\n",
       "      <td>0</td>\n",
       "    </tr>\n",
       "    <tr>\n",
       "      <th>1</th>\n",
       "      <td>00313ee0-9eaa-42f4-b0ab-c148ed3241cd</td>\n",
       "      <td>00313ee0-9eaa-42f4-b0ab-c148ed3241cd.dcm</td>\n",
       "      <td>00313ee0-9eaa-42f4-b0ab-c148ed3241cd.jpg</td>\n",
       "      <td>No Lung Opacity / Not Normal</td>\n",
       "      <td>F</td>\n",
       "      <td>48</td>\n",
       "      <td>PA</td>\n",
       "      <td>0</td>\n",
       "      <td>1</td>\n",
       "      <td>0</td>\n",
       "      <td>1</td>\n",
       "      <td>0</td>\n",
       "    </tr>\n",
       "    <tr>\n",
       "      <th>2</th>\n",
       "      <td>00322d4d-1c29-4943-afc9-b6754be640eb</td>\n",
       "      <td>00322d4d-1c29-4943-afc9-b6754be640eb.dcm</td>\n",
       "      <td>00322d4d-1c29-4943-afc9-b6754be640eb.jpg</td>\n",
       "      <td>No Lung Opacity / Not Normal</td>\n",
       "      <td>M</td>\n",
       "      <td>19</td>\n",
       "      <td>AP</td>\n",
       "      <td>0</td>\n",
       "      <td>1</td>\n",
       "      <td>0</td>\n",
       "      <td>1</td>\n",
       "      <td>0</td>\n",
       "    </tr>\n",
       "    <tr>\n",
       "      <th>3</th>\n",
       "      <td>003d8fa0-6bf1-40ed-b54c-ac657f8495c5</td>\n",
       "      <td>003d8fa0-6bf1-40ed-b54c-ac657f8495c5.dcm</td>\n",
       "      <td>003d8fa0-6bf1-40ed-b54c-ac657f8495c5.jpg</td>\n",
       "      <td>Normal</td>\n",
       "      <td>M</td>\n",
       "      <td>28</td>\n",
       "      <td>PA</td>\n",
       "      <td>0</td>\n",
       "      <td>0</td>\n",
       "      <td>1</td>\n",
       "      <td>0</td>\n",
       "      <td>0</td>\n",
       "    </tr>\n",
       "    <tr>\n",
       "      <th>4</th>\n",
       "      <td>00436515-870c-4b36-a041-de91049b9ab4</td>\n",
       "      <td>00436515-870c-4b36-a041-de91049b9ab4.dcm</td>\n",
       "      <td>00436515-870c-4b36-a041-de91049b9ab4.jpg</td>\n",
       "      <td>Lung Opacity</td>\n",
       "      <td>F</td>\n",
       "      <td>32</td>\n",
       "      <td>AP</td>\n",
       "      <td>1</td>\n",
       "      <td>2</td>\n",
       "      <td>0</td>\n",
       "      <td>0</td>\n",
       "      <td>1</td>\n",
       "    </tr>\n",
       "  </tbody>\n",
       "</table>\n",
       "</div>"
      ],
      "text/plain": [
       "                             patient_id  \\\n",
       "0  0004cfab-14fd-4e49-80ba-63a80b6bddd6   \n",
       "1  00313ee0-9eaa-42f4-b0ab-c148ed3241cd   \n",
       "2  00322d4d-1c29-4943-afc9-b6754be640eb   \n",
       "3  003d8fa0-6bf1-40ed-b54c-ac657f8495c5   \n",
       "4  00436515-870c-4b36-a041-de91049b9ab4   \n",
       "\n",
       "                              dcm_file_name  \\\n",
       "0  0004cfab-14fd-4e49-80ba-63a80b6bddd6.dcm   \n",
       "1  00313ee0-9eaa-42f4-b0ab-c148ed3241cd.dcm   \n",
       "2  00322d4d-1c29-4943-afc9-b6754be640eb.dcm   \n",
       "3  003d8fa0-6bf1-40ed-b54c-ac657f8495c5.dcm   \n",
       "4  00436515-870c-4b36-a041-de91049b9ab4.dcm   \n",
       "\n",
       "                              jpg_file_name                          type sex  \\\n",
       "0  0004cfab-14fd-4e49-80ba-63a80b6bddd6.jpg  No Lung Opacity / Not Normal   F   \n",
       "1  00313ee0-9eaa-42f4-b0ab-c148ed3241cd.jpg  No Lung Opacity / Not Normal   F   \n",
       "2  00322d4d-1c29-4943-afc9-b6754be640eb.jpg  No Lung Opacity / Not Normal   M   \n",
       "3  003d8fa0-6bf1-40ed-b54c-ac657f8495c5.jpg                        Normal   M   \n",
       "4  00436515-870c-4b36-a041-de91049b9ab4.jpg                  Lung Opacity   F   \n",
       "\n",
       "  age view  target  target_3  type_0  type_1  type_2  \n",
       "0  51   PA       0         1       0       1       0  \n",
       "1  48   PA       0         1       0       1       0  \n",
       "2  19   AP       0         1       0       1       0  \n",
       "3  28   PA       0         0       1       0       0  \n",
       "4  32   AP       1         2       0       0       1  "
      ]
     },
     "execution_count": 16,
     "metadata": {},
     "output_type": "execute_result"
    }
   ],
   "source": [
    "labels.head()"
   ]
  },
  {
   "cell_type": "code",
   "execution_count": 17,
   "metadata": {
    "ExecuteTime": {
     "end_time": "2019-11-11T18:15:48.324920Z",
     "start_time": "2019-11-11T18:15:48.309710Z"
    }
   },
   "outputs": [
    {
     "name": "stdout",
     "output_type": "stream",
     "text": [
      "<class 'pandas.core.frame.DataFrame'>\n",
      "Int64Index: 26684 entries, 0 to 30225\n",
      "Data columns (total 12 columns):\n",
      "patient_id       26684 non-null object\n",
      "dcm_file_name    26684 non-null object\n",
      "jpg_file_name    26684 non-null object\n",
      "type             26684 non-null object\n",
      "sex              26684 non-null object\n",
      "age              26684 non-null object\n",
      "view             26684 non-null object\n",
      "target           26684 non-null int64\n",
      "target_3         26684 non-null int64\n",
      "type_0           26684 non-null uint8\n",
      "type_1           26684 non-null uint8\n",
      "type_2           26684 non-null uint8\n",
      "dtypes: int64(2), object(7), uint8(3)\n",
      "memory usage: 2.1+ MB\n"
     ]
    }
   ],
   "source": [
    "labels.info()"
   ]
  },
  {
   "cell_type": "code",
   "execution_count": 18,
   "metadata": {
    "ExecuteTime": {
     "end_time": "2019-11-11T18:15:48.329915Z",
     "start_time": "2019-11-11T18:15:48.326806Z"
    }
   },
   "outputs": [
    {
     "data": {
      "text/plain": [
       "(26684, 12)"
      ]
     },
     "execution_count": 18,
     "metadata": {},
     "output_type": "execute_result"
    }
   ],
   "source": [
    "labels.shape"
   ]
  },
  {
   "cell_type": "markdown",
   "metadata": {},
   "source": [
    "## Export clean CSV"
   ]
  },
  {
   "cell_type": "code",
   "execution_count": 19,
   "metadata": {
    "ExecuteTime": {
     "end_time": "2019-11-11T18:15:48.453643Z",
     "start_time": "2019-11-11T18:15:48.331560Z"
    }
   },
   "outputs": [],
   "source": [
    "labels.to_csv(os.path.join(CSV_PATH,'cxr_information.csv'),index=False)"
   ]
  }
 ],
 "metadata": {
  "hide_input": false,
  "kernelspec": {
   "display_name": "Python 3",
   "language": "python",
   "name": "python3"
  },
  "language_info": {
   "codemirror_mode": {
    "name": "ipython",
    "version": 3
   },
   "file_extension": ".py",
   "mimetype": "text/x-python",
   "name": "python",
   "nbconvert_exporter": "python",
   "pygments_lexer": "ipython3",
   "version": "3.7.3"
  },
  "toc": {
   "base_numbering": 1,
   "nav_menu": {},
   "number_sections": true,
   "sideBar": true,
   "skip_h1_title": false,
   "title_cell": "Table of Contents",
   "title_sidebar": "Contents",
   "toc_cell": false,
   "toc_position": {},
   "toc_section_display": true,
   "toc_window_display": false
  },
  "varInspector": {
   "cols": {
    "lenName": 16,
    "lenType": 16,
    "lenVar": 40
   },
   "kernels_config": {
    "python": {
     "delete_cmd_postfix": "",
     "delete_cmd_prefix": "del ",
     "library": "var_list.py",
     "varRefreshCmd": "print(var_dic_list())"
    },
    "r": {
     "delete_cmd_postfix": ") ",
     "delete_cmd_prefix": "rm(",
     "library": "var_list.r",
     "varRefreshCmd": "cat(var_dic_list()) "
    }
   },
   "types_to_exclude": [
    "module",
    "function",
    "builtin_function_or_method",
    "instance",
    "_Feature"
   ],
   "window_display": false
  }
 },
 "nbformat": 4,
 "nbformat_minor": 2
}
