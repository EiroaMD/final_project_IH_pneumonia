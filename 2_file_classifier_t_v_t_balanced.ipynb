{
 "cells": [
  {
   "cell_type": "markdown",
   "metadata": {},
   "source": [
    "# Image Preprocessing"
   ]
  },
  {
   "cell_type": "markdown",
   "metadata": {},
   "source": [
    "The purpose of this notebook is to convert the images, given in DICOM format, which is not optimal for feeding to a CNN, to jpg files.\n",
    "\n",
    "Once this is done, the images will be randomly separated into different files for training, validation, and testing, both with the non-opacity/non-pneumonia (labeled here as 'normal', although the images need not be normal, they just do not have pneumonia) and with the pneumonia subgroup.\n",
    "\n",
    "For this purpose, the csv dataset is loaded. Then, using a function (`data_split`) that loops twice over sklearn `train_test_split` three dataframes are randomly created, stratifying by Target to mantain the proportion of opacity vs non-opacity in both subsets. Using those subsets, the files are copied to its corresponding subfolders:\n",
    "    - Train non-opacity.\n",
    "    - Train opacity.\n",
    "    \n",
    "    - Validation non-opacity.\n",
    "    - Validation opacity.\n",
    "    \n",
    "    - Test non-opacity.\n",
    "    - Test opacity.\n",
    "\n",
    "\n",
    "- *CXR: Chest X-Ray.*"
   ]
  },
  {
   "cell_type": "markdown",
   "metadata": {},
   "source": [
    "##  Imports"
   ]
  },
  {
   "cell_type": "markdown",
   "metadata": {},
   "source": [
    "### Libraries "
   ]
  },
  {
   "cell_type": "code",
   "execution_count": 8,
   "metadata": {
    "ExecuteTime": {
     "end_time": "2019-11-13T19:54:25.368209Z",
     "start_time": "2019-11-13T19:54:25.361622Z"
    }
   },
   "outputs": [],
   "source": [
    "# System and file management\n",
    "import os\n",
    "import zipfile\n",
    "import shutil\n",
    "\n",
    "# General imports\n",
    "import pandas as pd\n",
    "\n",
    "# Visualization\n",
    "import matplotlib.pyplot as plt\n",
    "import seaborn as sns\n",
    "import cv2\n",
    "\n",
    "# sklearn imports\n",
    "from sklearn.model_selection import train_test_split\n",
    "\n",
    "# DICOM\n",
    "import pydicom\n",
    "from pydicom.filereader import dcmread"
   ]
  },
  {
   "cell_type": "markdown",
   "metadata": {},
   "source": [
    "### Functions"
   ]
  },
  {
   "cell_type": "code",
   "execution_count": 19,
   "metadata": {
    "ExecuteTime": {
     "end_time": "2019-11-13T19:58:24.002725Z",
     "start_time": "2019-11-13T19:58:23.975221Z"
    }
   },
   "outputs": [],
   "source": [
    "def subfolder_creator(path):\n",
    "    \"\"\"\n",
    "    This function checks wether a folder exist. In case it does not, it creates it.\n",
    "    \"\"\"\n",
    "    if os.path.exists(path):\n",
    "        path\n",
    "    else:\n",
    "        os.mkdir(path)\n",
    "        \n",
    "\n",
    "def data_split(examples, labels, train_frac, random_state=None, stratify=None):\n",
    "    \"\"\"\n",
    "    This function returns two lists of files, one with the normal xrays and another one with the pneumonia xrays, and prints the total number of files in each group.\n",
    "    Inputs:\n",
    "        - file_path: the path of the folder containing the dicom images.\n",
    "        - dataframe: the dataframe over which you want to iterate to separate both classes.\n",
    "        - dicom (default False): wether the file_path contains DICOM (set to True) or JPG files.\n",
    "    Outputs:\n",
    "        - List containing normal X-rays.\n",
    "        - List containing non-normal/non-pneumonia X-rays.\n",
    "        - List containing Pnuemonia X-rays.\n",
    "    \"\"\"\n",
    "    assert train_frac >= 0 and train_frac <= 1, \"Invalid training set fraction\"\n",
    "\n",
    "    X_train, X_tmp, Y_train, Y_tmp = train_test_split(examples, \n",
    "                                                      labels, \n",
    "                                                      train_size=train_frac, \n",
    "                                                      random_state=random_state,\n",
    "                                                      stratify=stratify)\n",
    "\n",
    "    X_val, X_test, Y_val, Y_test   = train_test_split(\n",
    "                                        X_tmp, Y_tmp, train_size=0.5, random_state=random_state)\n",
    "\n",
    "    return X_train, X_val, X_test,  Y_train, Y_val, Y_test\n",
    "\n",
    "        \n",
    "        \n",
    "def dcm_to_img(origin_fpath, destination_fpath, PNG=False):\n",
    "    \"\"\"\n",
    "    This function extracts the image information from DICOM (.dcm) files\n",
    "    and converts it to either .png or .jpg files, saving it in the desired folder\n",
    "    Inputs:\n",
    "        - origin_fpath: path where the .dcm files are located.\n",
    "        - destination_fpath: desired output path of the converted images.\n",
    "        - PNG: default False. Wether you want the output files in .png (set as True) or .jpg format.\n",
    "    Outputs:\n",
    "        - Converted files, either to *.png or *.jpg.\n",
    "    \"\"\"\n",
    "    \n",
    "    images_path = os.listdir(origin_fpath) # List of files inside origin folder\n",
    "    \n",
    "    for n, image in enumerate(images_path):\n",
    "        ds = pydicom.dcmread(os.path.join(origin_fpath, image))\n",
    "        pixel_array_numpy = ds.pixel_array\n",
    "        if PNG == False:\n",
    "            image = image.replace('.dcm', '.jpg')\n",
    "        else:\n",
    "            image = image.replace('.dcm', '.png')\n",
    "        cv2.imwrite(os.path.join(destination_fpath, image), pixel_array_numpy)\n",
    "        if n % 1000 == 0:\n",
    "            print('{} images converted'.format(n)) # Counter for every 1000 images converted\n",
    "            \n",
    "            \n",
    "            \n",
    "\n",
    "def target_extractor(origin_fpath, dataframe, dicom=False):\n",
    "    \"\"\"\n",
    "    This function returns two lists of files, one with the normal xrays and another one with the pneumonia xrays, and prints the total number of files in each group.\n",
    "    Inputs:\n",
    "        - file_path: the path of the folder containing the dicom images.\n",
    "        - dataframe: the dataframe over which you want to iterate to separate both classes.\n",
    "        - dicom (default False): wether the file_path contains DICOM (set to True) or JPG files.\n",
    "    Outputs:\n",
    "        - List containing non-opacity X-rays.\n",
    "        - List containing opacity X-rays.\n",
    "    \"\"\"\n",
    "    normalcxr = []; pneumoniacxr = []\n",
    "    if dicom == True:\n",
    "        for i in os.listdir(origin_fpath):\n",
    "            if i in list(dataframe.dcm_file_name.loc[dataframe.target == 1]):\n",
    "                pneumoniacxr.append(i) \n",
    "            elif i in list(dataframe.dcm_file_name.loc[dataframe.target == 0]):\n",
    "                normalcxr.append(i)\n",
    "            else:\n",
    "                pass\n",
    "            \n",
    "    if dicom == False:\n",
    "        for i in os.listdir(origin_fpath):\n",
    "            if i in list(dataframe.jpg_file_name.loc[dataframe.target == 1]):\n",
    "                pneumoniacxr.append(i) \n",
    "            elif i in list(dataframe.jpg_file_name.loc[dataframe.target == 0]):\n",
    "                normalcxr.append(i)\n",
    "            else:\n",
    "                pass\n",
    "        \n",
    "    return (normalcxr, pneumoniacxr)\n",
    "\n",
    "\n",
    "\n",
    "            \n",
    "def copy_files(origin_fpath, destination_fpath, file_list):\n",
    "    \"\"\"\n",
    "    This function checks if the directories exists then moves the files whose names are contained \n",
    "    in the list to the desired destination directory.\n",
    "    Inputs:\n",
    "        - origin_fpath: path of origin of the files.\n",
    "        - destination_fpath: desired destination path.\n",
    "        - file_list: the list of names of the files that are to be moved.\n",
    "    Outputs:\n",
    "        - No outputs displayed.\n",
    "    \"\"\"\n",
    "    # Check if both the are directories\n",
    "    if os.path.isdir(origin_fpath) and os.path.isdir(destination_fpath) :\n",
    "        # Iterate over all the files in a list, that we know are located in the source directory\n",
    "        for file in file_list:\n",
    "            # Define the route:\n",
    "            file_path = os.path.join(origin_fpath, file)\n",
    "            # Move each file to destination Directory\n",
    "            shutil.copy(file_path, destination_fpath);\n",
    "    else:\n",
    "        print(\"origin_fpath & destination_fpath should be Directories\")\n",
    "        \n",
    "        \n",
    "\n",
    "        \n",
    "def zip_creator(fname_list, origin_fpath, destination_fpath, file_name='default.zip'):\n",
    "    \"\"\"\n",
    "    This function exports a .zip file containing the files whose names are in a provided list.\n",
    "    Inputs:\n",
    "        - fname_list: list containing the names of the files to be compressed.\n",
    "        - origin_fpath: path where the origin files are located.\n",
    "        - destination_fpath: path where the created .zip will be exported.\n",
    "        - file_name: desired name of the .zip file.\n",
    "    Outputs:\n",
    "        - .zip file containing the original images.\n",
    "    \"\"\"\n",
    "    compressed = zipfile.ZipFile(os.path.join(destination_fpath, file_name), 'w')\n",
    "    for file in fname_list:\n",
    "        img_path = os.path.join(origin_fpath, file)\n",
    "        compressed.write(img_path)\n",
    "    compressed.close()"
   ]
  },
  {
   "cell_type": "markdown",
   "metadata": {},
   "source": [
    "### Paths and constants"
   ]
  },
  {
   "cell_type": "code",
   "execution_count": 30,
   "metadata": {
    "ExecuteTime": {
     "end_time": "2019-11-13T20:05:45.203198Z",
     "start_time": "2019-11-13T20:05:45.198321Z"
    }
   },
   "outputs": [],
   "source": [
    "PATH = 'data/' # root\n",
    "CSV_PATH = os.path.join(PATH,'csv') # folder with csv datasets\n",
    "DICOM_PATH = os.path.join(PATH, 'pool') # folder containing all of the dicom files\n",
    "JPG_PATH = os.path.join(PATH, 'pool_jpg') # folder containing all the converted jpg files\n",
    "DESTINATION_PATH = os.path.join(PATH, 'sorted_balanced') # Folder where the train and test subsets will be located\n",
    "\n",
    "# Train folder\n",
    "TRAIN_PATH = os.path.join(DESTINATION_PATH, 'train')\n",
    "TRAIN_NORMAL_PATH = os.path.join(TRAIN_PATH, 'normal')\n",
    "TRAIN_PNEUMONIA_PATH = os.path.join(TRAIN_PATH, 'pneumonia')\n",
    "\n",
    "# Validation folder\n",
    "VAL_PATH = os.path.join(DESTINATION_PATH, 'validation')\n",
    "VAL_NORMAL_PATH = os.path.join(VAL_PATH, 'normal')\n",
    "VAL_PNEUMONIA_PATH = os.path.join(VAL_PATH, 'pneumonia')\n",
    "\n",
    "# Test folder\n",
    "TEST_PATH = os.path.join(DESTINATION_PATH, 'test')\n",
    "TEST_NORMAL_PATH = os.path.join(TEST_PATH, 'normal') \n",
    "TEST_PNEUMONIA_PATH = os.path.join(TEST_PATH, 'pneumonia') "
   ]
  },
  {
   "cell_type": "markdown",
   "metadata": {},
   "source": [
    "### CSV import"
   ]
  },
  {
   "cell_type": "markdown",
   "metadata": {},
   "source": [
    "The clean csv file created in the previous step is loaded:"
   ]
  },
  {
   "cell_type": "code",
   "execution_count": 6,
   "metadata": {
    "ExecuteTime": {
     "end_time": "2019-11-13T19:50:12.995001Z",
     "start_time": "2019-11-13T19:50:12.885684Z"
    },
    "scrolled": true
   },
   "outputs": [
    {
     "data": {
      "text/html": [
       "<div>\n",
       "<style scoped>\n",
       "    .dataframe tbody tr th:only-of-type {\n",
       "        vertical-align: middle;\n",
       "    }\n",
       "\n",
       "    .dataframe tbody tr th {\n",
       "        vertical-align: top;\n",
       "    }\n",
       "\n",
       "    .dataframe thead th {\n",
       "        text-align: right;\n",
       "    }\n",
       "</style>\n",
       "<table border=\"1\" class=\"dataframe\">\n",
       "  <thead>\n",
       "    <tr style=\"text-align: right;\">\n",
       "      <th></th>\n",
       "      <th>patient_id</th>\n",
       "      <th>dcm_file_name</th>\n",
       "      <th>jpg_file_name</th>\n",
       "      <th>type</th>\n",
       "      <th>sex</th>\n",
       "      <th>age</th>\n",
       "      <th>view</th>\n",
       "      <th>target</th>\n",
       "    </tr>\n",
       "  </thead>\n",
       "  <tbody>\n",
       "    <tr>\n",
       "      <th>0</th>\n",
       "      <td>0004cfab-14fd-4e49-80ba-63a80b6bddd6</td>\n",
       "      <td>0004cfab-14fd-4e49-80ba-63a80b6bddd6.dcm</td>\n",
       "      <td>0004cfab-14fd-4e49-80ba-63a80b6bddd6.jpg</td>\n",
       "      <td>No Lung Opacity / Not Normal</td>\n",
       "      <td>F</td>\n",
       "      <td>51</td>\n",
       "      <td>PA</td>\n",
       "      <td>0</td>\n",
       "    </tr>\n",
       "    <tr>\n",
       "      <th>1</th>\n",
       "      <td>00313ee0-9eaa-42f4-b0ab-c148ed3241cd</td>\n",
       "      <td>00313ee0-9eaa-42f4-b0ab-c148ed3241cd.dcm</td>\n",
       "      <td>00313ee0-9eaa-42f4-b0ab-c148ed3241cd.jpg</td>\n",
       "      <td>No Lung Opacity / Not Normal</td>\n",
       "      <td>F</td>\n",
       "      <td>48</td>\n",
       "      <td>PA</td>\n",
       "      <td>0</td>\n",
       "    </tr>\n",
       "    <tr>\n",
       "      <th>2</th>\n",
       "      <td>00322d4d-1c29-4943-afc9-b6754be640eb</td>\n",
       "      <td>00322d4d-1c29-4943-afc9-b6754be640eb.dcm</td>\n",
       "      <td>00322d4d-1c29-4943-afc9-b6754be640eb.jpg</td>\n",
       "      <td>No Lung Opacity / Not Normal</td>\n",
       "      <td>M</td>\n",
       "      <td>19</td>\n",
       "      <td>AP</td>\n",
       "      <td>0</td>\n",
       "    </tr>\n",
       "    <tr>\n",
       "      <th>3</th>\n",
       "      <td>003d8fa0-6bf1-40ed-b54c-ac657f8495c5</td>\n",
       "      <td>003d8fa0-6bf1-40ed-b54c-ac657f8495c5.dcm</td>\n",
       "      <td>003d8fa0-6bf1-40ed-b54c-ac657f8495c5.jpg</td>\n",
       "      <td>Normal</td>\n",
       "      <td>M</td>\n",
       "      <td>28</td>\n",
       "      <td>PA</td>\n",
       "      <td>0</td>\n",
       "    </tr>\n",
       "    <tr>\n",
       "      <th>4</th>\n",
       "      <td>00436515-870c-4b36-a041-de91049b9ab4</td>\n",
       "      <td>00436515-870c-4b36-a041-de91049b9ab4.dcm</td>\n",
       "      <td>00436515-870c-4b36-a041-de91049b9ab4.jpg</td>\n",
       "      <td>Lung Opacity</td>\n",
       "      <td>F</td>\n",
       "      <td>32</td>\n",
       "      <td>AP</td>\n",
       "      <td>1</td>\n",
       "    </tr>\n",
       "  </tbody>\n",
       "</table>\n",
       "</div>"
      ],
      "text/plain": [
       "                             patient_id  \\\n",
       "0  0004cfab-14fd-4e49-80ba-63a80b6bddd6   \n",
       "1  00313ee0-9eaa-42f4-b0ab-c148ed3241cd   \n",
       "2  00322d4d-1c29-4943-afc9-b6754be640eb   \n",
       "3  003d8fa0-6bf1-40ed-b54c-ac657f8495c5   \n",
       "4  00436515-870c-4b36-a041-de91049b9ab4   \n",
       "\n",
       "                              dcm_file_name  \\\n",
       "0  0004cfab-14fd-4e49-80ba-63a80b6bddd6.dcm   \n",
       "1  00313ee0-9eaa-42f4-b0ab-c148ed3241cd.dcm   \n",
       "2  00322d4d-1c29-4943-afc9-b6754be640eb.dcm   \n",
       "3  003d8fa0-6bf1-40ed-b54c-ac657f8495c5.dcm   \n",
       "4  00436515-870c-4b36-a041-de91049b9ab4.dcm   \n",
       "\n",
       "                              jpg_file_name                          type sex  \\\n",
       "0  0004cfab-14fd-4e49-80ba-63a80b6bddd6.jpg  No Lung Opacity / Not Normal   F   \n",
       "1  00313ee0-9eaa-42f4-b0ab-c148ed3241cd.jpg  No Lung Opacity / Not Normal   F   \n",
       "2  00322d4d-1c29-4943-afc9-b6754be640eb.jpg  No Lung Opacity / Not Normal   M   \n",
       "3  003d8fa0-6bf1-40ed-b54c-ac657f8495c5.jpg                        Normal   M   \n",
       "4  00436515-870c-4b36-a041-de91049b9ab4.jpg                  Lung Opacity   F   \n",
       "\n",
       "   age view  target  \n",
       "0   51   PA       0  \n",
       "1   48   PA       0  \n",
       "2   19   AP       0  \n",
       "3   28   PA       0  \n",
       "4   32   AP       1  "
      ]
     },
     "execution_count": 6,
     "metadata": {},
     "output_type": "execute_result"
    }
   ],
   "source": [
    "labels = pd.read_csv(os.path.join(CSV_PATH,'cxr_information.csv'))\n",
    "labels.head()"
   ]
  },
  {
   "cell_type": "markdown",
   "metadata": {},
   "source": [
    "## Dealing with the unbalance "
   ]
  },
  {
   "cell_type": "markdown",
   "metadata": {},
   "source": [
    "There is a problem with unbalance in the target variable:"
   ]
  },
  {
   "cell_type": "code",
   "execution_count": 1,
   "metadata": {},
   "outputs": [
    {
     "ename": "NameError",
     "evalue": "name 'sns' is not defined",
     "output_type": "error",
     "traceback": [
      "\u001b[1;31m---------------------------------------------------------------------------\u001b[0m",
      "\u001b[1;31mNameError\u001b[0m                                 Traceback (most recent call last)",
      "\u001b[1;32m<ipython-input-1-467017495b6d>\u001b[0m in \u001b[0;36m<module>\u001b[1;34m\u001b[0m\n\u001b[1;32m----> 1\u001b[1;33m \u001b[0msns\u001b[0m\u001b[1;33m.\u001b[0m\u001b[0mcountplot\u001b[0m\u001b[1;33m(\u001b[0m\u001b[0mx\u001b[0m \u001b[1;33m=\u001b[0m \u001b[1;34m'target'\u001b[0m\u001b[1;33m,\u001b[0m \u001b[0mdata\u001b[0m \u001b[1;33m=\u001b[0m \u001b[0mlabels\u001b[0m\u001b[1;33m)\u001b[0m\u001b[1;33m\u001b[0m\u001b[1;33m\u001b[0m\u001b[0m\n\u001b[0m",
      "\u001b[1;31mNameError\u001b[0m: name 'sns' is not defined"
     ]
    }
   ],
   "source": [
    "sns.countplot(x = 'target', data = labels)"
   ]
  },
  {
   "cell_type": "code",
   "execution_count": 2,
   "metadata": {},
   "outputs": [
    {
     "ename": "NameError",
     "evalue": "name 'sns' is not defined",
     "output_type": "error",
     "traceback": [
      "\u001b[1;31m---------------------------------------------------------------------------\u001b[0m",
      "\u001b[1;31mNameError\u001b[0m                                 Traceback (most recent call last)",
      "\u001b[1;32m<ipython-input-2-2474e9c386d7>\u001b[0m in \u001b[0;36m<module>\u001b[1;34m\u001b[0m\n\u001b[1;32m----> 1\u001b[1;33m \u001b[0msns\u001b[0m\u001b[1;33m.\u001b[0m\u001b[0mcountplot\u001b[0m\u001b[1;33m(\u001b[0m\u001b[0mx\u001b[0m \u001b[1;33m=\u001b[0m \u001b[1;34m'type'\u001b[0m\u001b[1;33m,\u001b[0m \u001b[0mdata\u001b[0m \u001b[1;33m=\u001b[0m \u001b[0mlabels\u001b[0m\u001b[1;33m)\u001b[0m\u001b[1;33m\u001b[0m\u001b[1;33m\u001b[0m\u001b[0m\n\u001b[0m",
      "\u001b[1;31mNameError\u001b[0m: name 'sns' is not defined"
     ]
    }
   ],
   "source": [
    "sns.countplot(x = 'type', data = labels)"
   ]
  },
  {
   "cell_type": "code",
   "execution_count": null,
   "metadata": {},
   "outputs": [],
   "source": [
    "labels.type.loc[labels.type == 'Lung Opacity'].count()"
   ]
  },
  {
   "cell_type": "markdown",
   "metadata": {},
   "source": [
    "I decided to do an undersampling method using the 6012 pneumonia CXR and 6012 normal CXR (from the normal group)"
   ]
  },
  {
   "cell_type": "code",
   "execution_count": null,
   "metadata": {},
   "outputs": [],
   "source": [
    "labels = labels.loc[labels.type != 'No Lung Opacity / Not Normal']"
   ]
  },
  {
   "cell_type": "code",
   "execution_count": null,
   "metadata": {},
   "outputs": [],
   "source": [
    "labels.shape"
   ]
  },
  {
   "cell_type": "code",
   "execution_count": null,
   "metadata": {},
   "outputs": [],
   "source": [
    "np.random.seed(10)\n",
    "\n",
    "remove_n = 8851 - 6012\n",
    "drop_indices = np.random.choice(labels.loc[balanced_labels.target_3 == 0].index, remove_n, replace=False)\n",
    "labels = labels.drop(drop_indices)"
   ]
  },
  {
   "cell_type": "code",
   "execution_count": null,
   "metadata": {},
   "outputs": [],
   "source": [
    "labels.shape"
   ]
  },
  {
   "cell_type": "code",
   "execution_count": null,
   "metadata": {},
   "outputs": [],
   "source": [
    "labels.to_csv(os.path.join(CSV_PATH,'balanced_cxr_information.csv'), index= False)"
   ]
  },
  {
   "cell_type": "markdown",
   "metadata": {},
   "source": [
    "So we have ended up with a "
   ]
  },
  {
   "cell_type": "markdown",
   "metadata": {},
   "source": [
    "##  train-validation-test split"
   ]
  },
  {
   "cell_type": "code",
   "execution_count": 21,
   "metadata": {
    "ExecuteTime": {
     "end_time": "2019-11-13T19:58:48.508559Z",
     "start_time": "2019-11-13T19:58:48.473639Z"
    }
   },
   "outputs": [],
   "source": [
    "X_train, X_val, X_test, y_train, y_val, y_test = data_split(labels.drop(columns = ['target']), labels.target, train_frac=0.7, random_state=20, stratify=labels.target)"
   ]
  },
  {
   "cell_type": "code",
   "execution_count": 22,
   "metadata": {
    "ExecuteTime": {
     "end_time": "2019-11-13T19:58:51.637580Z",
     "start_time": "2019-11-13T19:58:51.628931Z"
    }
   },
   "outputs": [],
   "source": [
    "train_df = pd.concat([X_train, y_train], axis=1)\n",
    "train_df.to_csv(os.path.join(CSV_PATH,'balanced_train_target_2.csv'), index=False)"
   ]
  },
  {
   "cell_type": "code",
   "execution_count": 23,
   "metadata": {
    "ExecuteTime": {
     "end_time": "2019-11-13T19:58:52.058961Z",
     "start_time": "2019-11-13T19:58:52.048610Z"
    }
   },
   "outputs": [],
   "source": [
    "val_df = pd.concat([X_val, y_val], axis=1)\n",
    "val_df.to_csv(os.path.join(CSV_PATH,'balanced_val_target_2.csv'), index=False)"
   ]
  },
  {
   "cell_type": "code",
   "execution_count": 24,
   "metadata": {
    "ExecuteTime": {
     "end_time": "2019-11-13T19:58:52.479172Z",
     "start_time": "2019-11-13T19:58:52.471017Z"
    }
   },
   "outputs": [],
   "source": [
    "test_df = pd.concat([X_test, y_test], axis=1)\n",
    "test_df.to_csv(os.path.join(CSV_PATH,'balanced_test_target_2.csv'), index=False)"
   ]
  },
  {
   "cell_type": "markdown",
   "metadata": {},
   "source": [
    "### Distribution of Target variable in Train, Validation and Test Subsets"
   ]
  },
  {
   "cell_type": "code",
   "execution_count": 25,
   "metadata": {
    "ExecuteTime": {
     "end_time": "2019-11-13T19:59:00.286017Z",
     "start_time": "2019-11-13T19:59:00.148331Z"
    }
   },
   "outputs": [
    {
     "data": {
      "text/plain": [
       "<matplotlib.axes._subplots.AxesSubplot at 0x7f4470354128>"
      ]
     },
     "execution_count": 25,
     "metadata": {},
     "output_type": "execute_result"
    },
    {
     "data": {
      "image/png": "[encoded data removed]",
      "text/plain": [
       "<Figure size 432x288 with 1 Axes>"
      ]
     },
     "metadata": {
      "needs_background": "light"
     },
     "output_type": "display_data"
    }
   ],
   "source": [
    "sns.countplot(x = 'target', data = train_df)"
   ]
  },
  {
   "cell_type": "code",
   "execution_count": 26,
   "metadata": {
    "ExecuteTime": {
     "end_time": "2019-11-13T19:59:01.308693Z",
     "start_time": "2019-11-13T19:59:01.166290Z"
    }
   },
   "outputs": [
    {
     "data": {
      "text/plain": [
       "<matplotlib.axes._subplots.AxesSubplot at 0x7f44701cd588>"
      ]
     },
     "execution_count": 26,
     "metadata": {},
     "output_type": "execute_result"
    },
    {
     "data": {
      "image/png": "[encoded data removed]",
      "text/plain": [
       "<Figure size 432x288 with 1 Axes>"
      ]
     },
     "metadata": {
      "needs_background": "light"
     },
     "output_type": "display_data"
    }
   ],
   "source": [
    "sns.countplot(x = 'target', data = val_df)"
   ]
  },
  {
   "cell_type": "code",
   "execution_count": null,
   "metadata": {
    "ExecuteTime": {
     "end_time": "2019-11-13T19:59:04.365821Z",
     "start_time": "2019-11-13T19:59:04.229771Z"
    }
   },
   "outputs": [],
   "source": [
    "sns.countplot(x = 'target', data = test_df)"
   ]
  },
  {
   "cell_type": "markdown",
   "metadata": {},
   "source": [
    "We can check that proportions on the three subsets are consistent with the original proportions, and thus, data is quite unbalanced."
   ]
  },
  {
   "cell_type": "markdown",
   "metadata": {},
   "source": [
    "## Decompress files"
   ]
  },
  {
   "cell_type": "code",
   "execution_count": 28,
   "metadata": {
    "ExecuteTime": {
     "end_time": "2019-11-13T19:59:31.868850Z",
     "start_time": "2019-11-13T19:59:08.998843Z"
    }
   },
   "outputs": [],
   "source": [
    "# Uncomment this cell if the files need to be decompressed (first time)\n",
    "\"\"\"\n",
    "# Creating directory:\n",
    "subfolder_creator(DICOM_PATH)\n",
    "\n",
    "# Extracting the dicom files into directory:\n",
    "local_zip = os.path.join(PATH, 'all_images.zip')\n",
    "zip_ref = zipfile.ZipFile(local_zip, 'r')\n",
    "zip_ref.extractall(DICOM_PATH)\n",
    "zip_ref.close()\n",
    "\"\"\""
   ]
  },
  {
   "cell_type": "markdown",
   "metadata": {},
   "source": [
    "## Convert .dcm files to .jpg"
   ]
  },
  {
   "cell_type": "code",
   "execution_count": 29,
   "metadata": {
    "ExecuteTime": {
     "end_time": "2019-11-13T20:05:44.690545Z",
     "start_time": "2019-11-13T19:59:32.058712Z"
    }
   },
   "outputs": [
    {
     "name": "stdout",
     "output_type": "stream",
     "text": [
      "0 images converted\n",
      "1000 images converted\n",
      "2000 images converted\n",
      "3000 images converted\n",
      "4000 images converted\n",
      "5000 images converted\n",
      "6000 images converted\n",
      "7000 images converted\n",
      "8000 images converted\n",
      "9000 images converted\n",
      "10000 images converted\n",
      "11000 images converted\n",
      "12000 images converted\n",
      "13000 images converted\n",
      "14000 images converted\n",
      "15000 images converted\n",
      "16000 images converted\n",
      "17000 images converted\n",
      "18000 images converted\n",
      "19000 images converted\n",
      "20000 images converted\n",
      "21000 images converted\n",
      "22000 images converted\n",
      "23000 images converted\n",
      "24000 images converted\n",
      "25000 images converted\n",
      "26000 images converted\n"
     ]
    }
   ],
   "source": [
    "# Uncomment this cell if the files need to be converted (first time)\n",
    "\"\"\"\n",
    "# Creating directory:\n",
    "subfolder_creator(JPG_PATH)\n",
    "\n",
    "# Converting .dcm to .jpg:\n",
    "dcm_to_img(origin_fpath=DICOM_PATH,\n",
    "           destination_fpath=JPG_PATH,\n",
    "           PNG=False)\n",
    "\"\"\""
   ]
  },
  {
   "cell_type": "markdown",
   "metadata": {},
   "source": [
    "## Separating \"Normal\" and Pneumonia CXR for each subset"
   ]
  },
  {
   "cell_type": "markdown",
   "metadata": {},
   "source": [
    "Using the `target_extractor` function defined above, a list containing the names of images with pneumonia and other containing the names of images without pneumonia are created.\n",
    "\n",
    "A short script is run afterwards to check that the number of total X-Rays is the same as the number of files in desired path."
   ]
  },
  {
   "cell_type": "code",
   "execution_count": 20,
   "metadata": {
    "ExecuteTime": {
     "end_time": "2019-11-13T20:12:25.004437Z",
     "start_time": "2019-11-13T20:11:13.509197Z"
    }
   },
   "outputs": [],
   "source": [
    "train_normal_files, train_pneumonia_files = target_extractor(JPG_PATH, train_df)"
   ]
  },
  {
   "cell_type": "code",
   "execution_count": 21,
   "metadata": {
    "ExecuteTime": {
     "end_time": "2019-11-13T20:12:54.590457Z",
     "start_time": "2019-11-13T20:12:25.170259Z"
    }
   },
   "outputs": [],
   "source": [
    "val_normal_files, val_pneumonia_files = target_extractor(JPG_PATH, val_df)"
   ]
  },
  {
   "cell_type": "code",
   "execution_count": 22,
   "metadata": {
    "ExecuteTime": {
     "end_time": "2019-11-13T20:13:24.295277Z",
     "start_time": "2019-11-13T20:12:54.789113Z"
    }
   },
   "outputs": [],
   "source": [
    "test_normal_files, test_pneumonia_files = target_extractor(JPG_PATH, test_df)"
   ]
  },
  {
   "cell_type": "code",
   "execution_count": 23,
   "metadata": {
    "ExecuteTime": {
     "end_time": "2019-11-13T20:16:07.774053Z",
     "start_time": "2019-11-13T20:16:07.744663Z"
    }
   },
   "outputs": [
    {
     "name": "stdout",
     "output_type": "stream",
     "text": [
      "Non-opacity train X-rays:0\n",
      "Opacity train X-rays:0\n",
      "Non-opacity validation X-rays:0\n",
      "Opacity validation X-rays:0\n",
      "Non-opacity test X-rays:0\n",
      "Opacity test X-rays:0\n",
      "Total files in list: 0\n",
      "======\n",
      "Total files in original path:0\n"
     ]
    }
   ],
   "source": [
    "print('Non-opacity train X-rays:{}\\nOpacity train X-rays:{}'.format(len(train_normal_files), \n",
    "                                                                    len(train_pneumonia_files)))\n",
    "      \n",
    "print('Non-opacity validation X-rays:{}\\nOpacity validation X-rays:{}'.format(len(val_normal_files), \n",
    "                                                                              len(val_pneumonia_files)))\n",
    "\n",
    "print('Non-opacity test X-rays:{}\\nOpacity test X-rays:{}'.format(len(test_normal_files), \n",
    "                                                                  len(test_pneumonia_files)))\n",
    "\n",
    "total = len((train_normal_files + train_pneumonia_files + val_normal_files + val_pneumonia_files + test_normal_files + test_pneumonia_files))\n",
    "print('Total files in list: {}'.format(total))\n",
    "\n",
    "\n",
    "print('======\\nTotal files in original path:{}'.format(len(os.listdir(JPG_PATH))))"
   ]
  },
  {
   "cell_type": "markdown",
   "metadata": {},
   "source": [
    "## Creating sub-folder structure and moving the images to their corresponding subset:"
   ]
  },
  {
   "cell_type": "markdown",
   "metadata": {},
   "source": [
    "Checking that the subfolders are created, if not, create them:"
   ]
  },
  {
   "cell_type": "code",
   "execution_count": 38,
   "metadata": {
    "ExecuteTime": {
     "end_time": "2019-11-13T20:16:29.769283Z",
     "start_time": "2019-11-13T20:16:29.695828Z"
    }
   },
   "outputs": [],
   "source": [
    "for folder in [DESTINATION_PATH, \n",
    "               TRAIN_PATH, \n",
    "               VAL_PATH,\n",
    "               TEST_PATH, \n",
    "               TRAIN_NORMAL_PATH, \n",
    "               TRAIN_PNEUMONIA_PATH,\n",
    "               VAL_NORMAL_PATH,\n",
    "               VAL_PNEUMONIA_PATH,\n",
    "               TEST_NORMAL_PATH, \n",
    "               TEST_PNEUMONIA_PATH]:\n",
    "    subfolder_creator(folder)"
   ]
  },
  {
   "cell_type": "markdown",
   "metadata": {
    "ExecuteTime": {
     "end_time": "2019-11-12T13:15:21.409323Z",
     "start_time": "2019-11-12T13:15:21.401027Z"
    }
   },
   "source": [
    "Looping over the lists and the desired destination files to move files using `move_files` function defined above:"
   ]
  },
  {
   "cell_type": "code",
   "execution_count": 39,
   "metadata": {
    "ExecuteTime": {
     "end_time": "2019-11-13T20:17:10.252949Z",
     "start_time": "2019-11-13T20:17:09.462256Z"
    }
   },
   "outputs": [],
   "source": [
    "var = [train_normal_files, train_pneumonia_files, val_normal_files, val_pneumonia_files, test_normal_files, test_pneumonia_files]\n",
    "path = [TRAIN_NORMAL_PATH, TRAIN_PNEUMONIA_PATH, VAL_NORMAL_PATH, VAL_PNEUMONIA_PATH, TEST_NORMAL_PATH, TEST_PNEUMONIA_PATH]\n",
    "\n",
    "for a,b in zip(var,path):\n",
    "    move_files(origin_fpath=JPG_PATH,\n",
    "               destination_fpath=b, \n",
    "               file_list=a)"
   ]
  },
  {
   "cell_type": "markdown",
   "metadata": {},
   "source": [
    "## Conclusion "
   ]
  },
  {
   "cell_type": "markdown",
   "metadata": {},
   "source": [
    "The result of runing this notebook should be the creation of a **sorted** folder containing three subfolders, **train**, **validation** and **test** each one containing two subclasses of images, *normal* and *pneumonia*."
   ]
  }
 ],
 "metadata": {
  "hide_input": false,
  "kernelspec": {
   "display_name": "Python 3",
   "language": "python",
   "name": "python3"
  },
  "language_info": {
   "codemirror_mode": {
    "name": "ipython",
    "version": 3
   },
   "file_extension": ".py",
   "mimetype": "text/x-python",
   "name": "python",
   "nbconvert_exporter": "python",
   "pygments_lexer": "ipython3",
   "version": "3.7.3"
  },
  "toc": {
   "base_numbering": 1,
   "nav_menu": {},
   "number_sections": true,
   "sideBar": true,
   "skip_h1_title": false,
   "title_cell": "Table of Contents",
   "title_sidebar": "Contents",
   "toc_cell": false,
   "toc_position": {},
   "toc_section_display": true,
   "toc_window_display": false
  },
  "varInspector": {
   "cols": {
    "lenName": 16,
    "lenType": 16,
    "lenVar": 40
   },
   "kernels_config": {
    "python": {
     "delete_cmd_postfix": "",
     "delete_cmd_prefix": "del ",
     "library": "var_list.py",
     "varRefreshCmd": "print(var_dic_list())"
    },
    "r": {
     "delete_cmd_postfix": ") ",
     "delete_cmd_prefix": "rm(",
     "library": "var_list.r",
     "varRefreshCmd": "cat(var_dic_list()) "
    }
   },
   "types_to_exclude": [
    "module",
    "function",
    "builtin_function_or_method",
    "instance",
    "_Feature"
   ],
   "window_display": false
  }
 },
 "nbformat": 4,
 "nbformat_minor": 2
}
