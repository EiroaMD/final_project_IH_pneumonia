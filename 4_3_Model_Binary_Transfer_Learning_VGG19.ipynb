{
 "cells": [
  {
   "cell_type": "markdown",
   "metadata": {},
   "source": [
    "# Binary Classification Model using Transfer Learning (VGG19).\n",
    "## Model Building, training and metrics."
   ]
  },
  {
   "cell_type": "markdown",
   "metadata": {},
   "source": [
    "I tried to apply [transfer learning methods](https://towardsdatascience.com/transfer-learning-from-pre-trained-models-f2393f124751) (i.e. using pre-trained layers on image classification) to the CNN inspired by similar solutions applied to image classification problems found in Kaggle and Medium.\n",
    "\n",
    "The input of the network are the two folders of images (Pneumonia versus Normal) and the output is a probability of one or the other using the ['Softmax'](https://en.wikipedia.org/wiki/Softmax_function) activation function. In the following notebook (5_3_Model_Binary_Transfer_Learning) predictions yielded over the test subset of images can be seen. "
   ]
  },
  {
   "cell_type": "markdown",
   "metadata": {},
   "source": [
    "##  Imports"
   ]
  },
  {
   "cell_type": "markdown",
   "metadata": {},
   "source": [
    "### Libraries"
   ]
  },
  {
   "cell_type": "code",
   "execution_count": 2,
   "metadata": {},
   "outputs": [],
   "source": [
    "# General imports\n",
    "import numpy as np\n",
    "import pandas as pd\n",
    "\n",
    "# System and file management\n",
    "import os\n",
    "\n",
    "# Visualization\n",
    "import matplotlib.pyplot as plt\n",
    "from imutils import paths\n",
    "\n",
    "#Pandas defaults\n",
    "pd.options.display.max_columns = 500\n",
    "pd.options.display.max_rows = 500\n",
    "\n",
    "# jupyter:\n",
    "from IPython.core.display import display, HTML\n",
    "display(HTML('<style>.container { width:100% !important; }</style>'))"
   ]
  },
  {
   "cell_type": "code",
   "execution_count": null,
   "metadata": {},
   "outputs": [],
   "source": [
    "# Tensorflow and sklearn\n",
    "from sklearn.metrics import classification_report\n",
    "from sklearn.metrics import accuracy_score\n",
    "from keras.applications import VGG19\n",
    "from keras.preprocessing.image import ImageDataGenerator\n",
    "from keras.optimizers import SGD\n",
    "from keras.models import Model \n",
    "from keras.layers import Dropout, Flatten, Dense, GlobalAveragePooling2D"
   ]
  },
  {
   "cell_type": "markdown",
   "metadata": {},
   "source": [
    "### Paths"
   ]
  },
  {
   "cell_type": "code",
   "execution_count": 3,
   "metadata": {},
   "outputs": [],
   "source": [
    "PATH = 'data/' # root\n",
    "CSV_PATH = os.path.join(PATH,'csv') # folder with csv datasets\n",
    "DICOM_PATH = os.path.join(PATH, 'pool') # folder containing all of the dicom files\n",
    "JPG_PATH = os.path.join(PATH, 'pool_jpg') # folder containing all the converted jpg files\n",
    "DESTINATION_PATH = os.path.join(PATH, 'sorted_balanced') # Folder where the train and test subsets will be located\n",
    "MODELS_PATH = os.path.join(PATH,'model')\n",
    "\n",
    "# Train folder\n",
    "TRAIN_PATH = os.path.join(DESTINATION_PATH, 'train')\n",
    "TRAIN_NORMAL_PATH = os.path.join(TRAIN_PATH, 'normal')\n",
    "TRAIN_NNNP_PATH = os.path.join(TRAIN_PATH, 'nnnp')\n",
    "TRAIN_PNEUMONIA_PATH = os.path.join(TRAIN_PATH, 'pneumonia')\n",
    "\n",
    "# Validation folder\n",
    "VAL_PATH = os.path.join(DESTINATION_PATH, 'validation')\n",
    "VAL_NORMAL_PATH = os.path.join(VAL_PATH, 'normal')\n",
    "VAL_NNNP_PATH = os.path.join(VAL_PATH, 'nnnp')\n",
    "VAL_PNEUMONIA_PATH = os.path.join(VAL_PATH, 'pneumonia')\n",
    "\n",
    "# Test folder\n",
    "TEST_PATH = os.path.join(DESTINATION_PATH, 'test')\n",
    "TEST_NORMAL_PATH = os.path.join(TEST_PATH, 'normal') \n",
    "TEST_NNNP_PATH = os.path.join(TEST_PATH, 'nnnp')\n",
    "TEST_PNEUMONIA_PATH = os.path.join(TEST_PATH, 'pneumonia') "
   ]
  },
  {
   "cell_type": "markdown",
   "metadata": {},
   "source": [
    "### Constants"
   ]
  },
  {
   "cell_type": "code",
   "execution_count": 4,
   "metadata": {},
   "outputs": [],
   "source": [
    "img_width, img_height = 128, 128\n",
    "NB = 2\n",
    "BS = 64\n",
    "EPOCHS = 10\n",
    "\n",
    "TRAIN_LEN = len(list(paths.list_images(TRAIN_PATH)))\n",
    "VAL_LEN = len(list(paths.list_images(VAL_PATH)))\n",
    "TEST_LEN = len(list(paths.list_images(TEST_PATH)))"
   ]
  },
  {
   "cell_type": "markdown",
   "metadata": {},
   "source": [
    "## Model Building "
   ]
  },
  {
   "cell_type": "markdown",
   "metadata": {},
   "source": [
    "### Preprocessing images"
   ]
  },
  {
   "cell_type": "code",
   "execution_count": 7,
   "metadata": {},
   "outputs": [
    {
     "name": "stdout",
     "output_type": "stream",
     "text": [
      "Found 8416 images belonging to 2 classes.\n",
      "Found 1804 images belonging to 2 classes.\n",
      "Found 1804 images belonging to 2 classes.\n"
     ]
    }
   ],
   "source": [
    "trainAug = ImageDataGenerator(rescale = 1./255,\n",
    "                    fill_mode = \"nearest\")\n",
    "\n",
    "valAug = ImageDataGenerator(rescale = 1./255,\n",
    "                            fill_mode = \"nearest\")\n",
    "\n",
    "trainGen = trainAug.flow_from_directory(\n",
    "                    TRAIN_PATH,\n",
    "                    target_size = (img_height, img_width),\n",
    "                    batch_size = BS,\n",
    "                    shuffle = True,\n",
    "                    class_mode = \"categorical\")\n",
    "\n",
    "valGen = valAug.flow_from_directory(\n",
    "                    TEST_PATH,\n",
    "                    target_size = (img_height, img_width),\n",
    "                    batch_size = BS,\n",
    "                    shuffle = False,\n",
    "                    class_mode = \"categorical\")\n",
    "\n",
    "testGen = valAug.flow_from_directory(\n",
    "                    TEST_PATH,\n",
    "                    target_size = (img_height, img_width),\n",
    "                    batch_size = BS,\n",
    "                    shuffle = False,\n",
    "                    class_mode = \"categorical\")"
   ]
  },
  {
   "cell_type": "markdown",
   "metadata": {},
   "source": [
    "### Network creation"
   ]
  },
  {
   "cell_type": "code",
   "execution_count": 8,
   "metadata": {},
   "outputs": [
    {
     "name": "stdout",
     "output_type": "stream",
     "text": [
      "WARNING:tensorflow:From /usr/local/lib/python3.5/dist-packages/keras/backend/tensorflow_backend.py:4070: The name tf.nn.max_pool is deprecated. Please use tf.nn.max_pool2d instead.\n",
      "\n"
     ]
    },
    {
     "name": "stderr",
     "output_type": "stream",
     "text": [
      "/usr/local/lib/python3.5/dist-packages/ipykernel_launcher.py:12: UserWarning: Update your `Model` call to the Keras 2 API: `Model(outputs=Tensor(\"de..., inputs=Tensor(\"in...)`\n",
      "  if sys.path[0] == '':\n"
     ]
    }
   ],
   "source": [
    "# Loading pre-trained model (VGG19):\n",
    "base_model = VGG19(weights = \"imagenet\", include_top=False, \n",
    "                   input_shape = (img_width, img_height, 3))\n",
    "\n",
    "# Adding layers\n",
    "x = base_model.output # The output of the pre-trained model is the output of the next layers\n",
    "x = Flatten()(x) # Flatten feature map to a 1-dim tensor so we can add fully connected layers\n",
    "x = Dense(1024, activation = \"relu\")(x) # Create a fully connected layer with ReLU activation and 1024 hidden units\n",
    "x = Dropout(0.4)(x) # Fully connected layer is followed by a dropout to try to avoid overfitting\n",
    "x = Dense(256, activation = \"relu\")(x) # Create a fully connected layer with ReLU activation and 256 hidden units\n",
    "x = Dropout(0.2)(x) # Fully connected layer is followed by a dropout to try to avoid overfitting.\n",
    "preds = Dense(NB, activation = \"softmax\")(x) # Create output layer with two nodes (binary output) and Softmax activation function\n",
    "\n",
    "\n",
    "# Create model:\n",
    "# input = Images from the Generator built above\n",
    "# output = Binary prediction\n",
    "model = Model(input = base_model.input, output = preds)"
   ]
  },
  {
   "cell_type": "markdown",
   "metadata": {},
   "source": [
    "Next up, to make sure that the weights of the pre-trained layers (VGG19) don't change through the different steps of the training, we set those layers to non-trainable."
   ]
  },
  {
   "cell_type": "code",
   "execution_count": 9,
   "metadata": {},
   "outputs": [
    {
     "name": "stdout",
     "output_type": "stream",
     "text": [
      "0 input_1\n",
      "1 block1_conv1\n",
      "2 block1_conv2\n",
      "3 block1_pool\n",
      "4 block2_conv1\n",
      "5 block2_conv2\n",
      "6 block2_pool\n",
      "7 block3_conv1\n",
      "8 block3_conv2\n",
      "9 block3_conv3\n",
      "10 block3_conv4\n",
      "11 block3_pool\n",
      "12 block4_conv1\n",
      "13 block4_conv2\n",
      "14 block4_conv3\n",
      "15 block4_conv4\n",
      "16 block4_pool\n",
      "17 block5_conv1\n",
      "18 block5_conv2\n",
      "19 block5_conv3\n",
      "20 block5_conv4\n",
      "21 block5_pool\n",
      "22 flatten_1\n",
      "23 dense_1\n",
      "24 dropout_1\n",
      "25 dense_2\n",
      "26 dropout_2\n",
      "27 dense_3\n"
     ]
    }
   ],
   "source": [
    "for i,layer in enumerate(model.layers):\n",
    "    print(i,layer.name)\n",
    "\n",
    "for layer in model.layers[:16]:\n",
    "    layer.trainable=False\n",
    "for layer in model.layers[16:]:\n",
    "    layer.trainable=True"
   ]
  },
  {
   "cell_type": "markdown",
   "metadata": {},
   "source": [
    "### Summary"
   ]
  },
  {
   "cell_type": "code",
   "execution_count": 10,
   "metadata": {},
   "outputs": [
    {
     "name": "stdout",
     "output_type": "stream",
     "text": [
      "Model: \"model_1\"\n",
      "_________________________________________________________________\n",
      "Layer (type)                 Output Shape              Param #   \n",
      "=================================================================\n",
      "input_1 (InputLayer)         (None, 128, 128, 3)       0         \n",
      "_________________________________________________________________\n",
      "block1_conv1 (Conv2D)        (None, 128, 128, 64)      1792      \n",
      "_________________________________________________________________\n",
      "block1_conv2 (Conv2D)        (None, 128, 128, 64)      36928     \n",
      "_________________________________________________________________\n",
      "block1_pool (MaxPooling2D)   (None, 64, 64, 64)        0         \n",
      "_________________________________________________________________\n",
      "block2_conv1 (Conv2D)        (None, 64, 64, 128)       73856     \n",
      "_________________________________________________________________\n",
      "block2_conv2 (Conv2D)        (None, 64, 64, 128)       147584    \n",
      "_________________________________________________________________\n",
      "block2_pool (MaxPooling2D)   (None, 32, 32, 128)       0         \n",
      "_________________________________________________________________\n",
      "block3_conv1 (Conv2D)        (None, 32, 32, 256)       295168    \n",
      "_________________________________________________________________\n",
      "block3_conv2 (Conv2D)        (None, 32, 32, 256)       590080    \n",
      "_________________________________________________________________\n",
      "block3_conv3 (Conv2D)        (None, 32, 32, 256)       590080    \n",
      "_________________________________________________________________\n",
      "block3_conv4 (Conv2D)        (None, 32, 32, 256)       590080    \n",
      "_________________________________________________________________\n",
      "block3_pool (MaxPooling2D)   (None, 16, 16, 256)       0         \n",
      "_________________________________________________________________\n",
      "block4_conv1 (Conv2D)        (None, 16, 16, 512)       1180160   \n",
      "_________________________________________________________________\n",
      "block4_conv2 (Conv2D)        (None, 16, 16, 512)       2359808   \n",
      "_________________________________________________________________\n",
      "block4_conv3 (Conv2D)        (None, 16, 16, 512)       2359808   \n",
      "_________________________________________________________________\n",
      "block4_conv4 (Conv2D)        (None, 16, 16, 512)       2359808   \n",
      "_________________________________________________________________\n",
      "block4_pool (MaxPooling2D)   (None, 8, 8, 512)         0         \n",
      "_________________________________________________________________\n",
      "block5_conv1 (Conv2D)        (None, 8, 8, 512)         2359808   \n",
      "_________________________________________________________________\n",
      "block5_conv2 (Conv2D)        (None, 8, 8, 512)         2359808   \n",
      "_________________________________________________________________\n",
      "block5_conv3 (Conv2D)        (None, 8, 8, 512)         2359808   \n",
      "_________________________________________________________________\n",
      "block5_conv4 (Conv2D)        (None, 8, 8, 512)         2359808   \n",
      "_________________________________________________________________\n",
      "block5_pool (MaxPooling2D)   (None, 4, 4, 512)         0         \n",
      "_________________________________________________________________\n",
      "flatten_1 (Flatten)          (None, 8192)              0         \n",
      "_________________________________________________________________\n",
      "dense_1 (Dense)              (None, 1024)              8389632   \n",
      "_________________________________________________________________\n",
      "dropout_1 (Dropout)          (None, 1024)              0         \n",
      "_________________________________________________________________\n",
      "dense_2 (Dense)              (None, 256)               262400    \n",
      "_________________________________________________________________\n",
      "dropout_2 (Dropout)          (None, 256)               0         \n",
      "_________________________________________________________________\n",
      "dense_3 (Dense)              (None, 2)                 514       \n",
      "=================================================================\n",
      "Total params: 28,676,930\n",
      "Trainable params: 18,091,778\n",
      "Non-trainable params: 10,585,152\n",
      "_________________________________________________________________\n"
     ]
    }
   ],
   "source": [
    "model.summary()"
   ]
  },
  {
   "cell_type": "markdown",
   "metadata": {},
   "source": [
    "### Compilation"
   ]
  },
  {
   "cell_type": "code",
   "execution_count": 12,
   "metadata": {},
   "outputs": [],
   "source": [
    "model.compile(loss = \"categorical_crossentropy\", \n",
    "                    optimizer = SGD(lr=0.001, momentum=0.9), \n",
    "                    metrics=[\"accuracy\"])"
   ]
  },
  {
   "cell_type": "markdown",
   "metadata": {},
   "source": [
    "### Fitting and Saving"
   ]
  },
  {
   "cell_type": "markdown",
   "metadata": {},
   "source": [
    "The image generator (trainGen) is fitted into the model. Epochs (constant defined above) is set to 10. The validation data is obtained from the validation image generator (valGen) built above. The steps are calculated by diving the total number of files of each subset by the size of the batch (BS = Batch Size)"
   ]
  },
  {
   "cell_type": "code",
   "execution_count": 13,
   "metadata": {},
   "outputs": [
    {
     "name": "stdout",
     "output_type": "stream",
     "text": [
      "WARNING:tensorflow:From /usr/local/lib/python3.5/dist-packages/keras/backend/tensorflow_backend.py:422: The name tf.global_variables is deprecated. Please use tf.compat.v1.global_variables instead.\n",
      "\n",
      "Epoch 1/10\n",
      "131/131 [==============================] - 421s 3s/step - loss: 0.3878 - accuracy: 0.8279 - val_loss: 0.0230 - val_accuracy: 0.8114\n",
      "Epoch 2/10\n"
     ]
    },
    {
     "name": "stderr",
     "output_type": "stream",
     "text": [
      "/usr/local/lib/python3.5/dist-packages/keras/callbacks/callbacks.py:846: RuntimeWarning: Early stopping conditioned on metric `val_acc` which is not available. Available metrics are: val_accuracy,val_loss,loss,accuracy\n",
      "  (self.monitor, ','.join(list(logs.keys()))), RuntimeWarning\n"
     ]
    },
    {
     "name": "stdout",
     "output_type": "stream",
     "text": [
      "131/131 [==============================] - 63s 479ms/step - loss: 0.2679 - accuracy: 0.8956 - val_loss: 0.1841 - val_accuracy: 0.9103\n",
      "Epoch 3/10\n",
      "131/131 [==============================] - 64s 485ms/step - loss: 0.2363 - accuracy: 0.9097 - val_loss: 0.1195 - val_accuracy: 0.9063\n",
      "Epoch 4/10\n",
      "131/131 [==============================] - 63s 480ms/step - loss: 0.2287 - accuracy: 0.9140 - val_loss: 0.1515 - val_accuracy: 0.9184\n",
      "Epoch 5/10\n",
      "131/131 [==============================] - 63s 479ms/step - loss: 0.2348 - accuracy: 0.9097 - val_loss: 0.1559 - val_accuracy: 0.9167\n",
      "Epoch 6/10\n",
      "131/131 [==============================] - 62s 470ms/step - loss: 0.2054 - accuracy: 0.9235 - val_loss: 0.1151 - val_accuracy: 0.9287\n",
      "Epoch 7/10\n",
      "131/131 [==============================] - 62s 477ms/step - loss: 0.1894 - accuracy: 0.9302 - val_loss: 0.3544 - val_accuracy: 0.9224\n",
      "Epoch 8/10\n",
      "131/131 [==============================] - 61s 462ms/step - loss: 0.1839 - accuracy: 0.9316 - val_loss: 0.2481 - val_accuracy: 0.9230\n",
      "Epoch 9/10\n",
      "131/131 [==============================] - 60s 459ms/step - loss: 0.1691 - accuracy: 0.9380 - val_loss: 0.4047 - val_accuracy: 0.9264\n",
      "Epoch 10/10\n",
      "131/131 [==============================] - 60s 461ms/step - loss: 0.1606 - accuracy: 0.9409 - val_loss: 0.2042 - val_accuracy: 0.9259\n"
     ]
    }
   ],
   "source": [
    "H = model.fit_generator(\n",
    "        trainGen,\n",
    "        epochs = EPOCHS,\n",
    "        steps_per_epoch = TRAIN_LEN // BS,\n",
    "        validation_data = valGen,\n",
    "        validation_steps = VAL_LEN // BS,\n",
    "        verbose=1)\n",
    "\n",
    "model.save('4_3_Model_Binary_Transfer_kjaisingh.h5')"
   ]
  },
  {
   "cell_type": "markdown",
   "metadata": {},
   "source": [
    "### Predicting the output and generating performance charts"
   ]
  },
  {
   "cell_type": "markdown",
   "metadata": {},
   "source": [
    "The model is used to generate predictions over the test subset in order to obtain performance metrics."
   ]
  },
  {
   "cell_type": "code",
   "execution_count": 14,
   "metadata": {},
   "outputs": [
    {
     "name": "stdout",
     "output_type": "stream",
     "text": [
      "Test set accuracy: 92.1840354767184%\n",
      "             precision    recall  f1-score   support\n",
      "\n",
      "     normal       0.92      0.93      0.92       920\n",
      "  pneumonia       0.93      0.91      0.92       884\n",
      "\n",
      "avg / total       0.92      0.92      0.92      1804\n",
      "\n"
     ]
    }
   ],
   "source": [
    "testGen.reset()\n",
    "predictions = model.predict_generator(testGen, steps = (TEST_LEN // BS) + 1) \n",
    "predictions = np.argmax(predictions, axis=1)\n",
    "\n",
    "print(\"Test set accuracy: \" + \n",
    "      str(accuracy_score(testGen.classes, predictions, normalize=True) * 100) \n",
    "      + \"%\") \n",
    "\n",
    "print(classification_report(testGen.classes, predictions,\n",
    "                            target_names=testGen.class_indices.keys())) "
   ]
  },
  {
   "cell_type": "markdown",
   "metadata": {},
   "source": [
    "Next, the performance data of the different epochs is generated, for clarifying reasons."
   ]
  },
  {
   "cell_type": "code",
   "execution_count": 17,
   "metadata": {},
   "outputs": [
    {
     "data": {
      "image/png": "[encoded data removed]",
      "text/plain": [
       "<Figure size 432x288 with 1 Axes>"
      ]
     },
     "metadata": {},
     "output_type": "display_data"
    }
   ],
   "source": [
    "# plotting training data\n",
    "plt.style.use(\"ggplot\")\n",
    "plt.figure()\n",
    "plt.plot(np.arange(0, EPOCHS), H.history[\"loss\"], label=\"train_loss\")\n",
    "plt.plot(np.arange(0, EPOCHS), H.history[\"val_loss\"], label=\"val_loss\")\n",
    "plt.plot(np.arange(0, EPOCHS), H.history[\"accuracy\"], label=\"train_acc\")\n",
    "plt.plot(np.arange(0, EPOCHS), H.history[\"val_accuracy\"], label=\"val_acc\")\n",
    "plt.title(\"Training Loss and Accuracy on Dataset\")\n",
    "plt.xlabel(\"Epoch #\")\n",
    "plt.ylabel(\"Loss/Accuracy\")\n",
    "plt.legend(loc=\"lower left\")\n",
    "plt.savefig(\"plot.jpg\")"
   ]
  },
  {
   "cell_type": "markdown",
   "metadata": {},
   "source": [
    "## Conclusion"
   ]
  },
  {
   "cell_type": "markdown",
   "metadata": {},
   "source": [
    "We have been able to build a model that accurately classifies both normal and pneumonia Chest-X-Rays given a jpg image. Althought the model slightly overfits (train-acc: , val-acc: , test-acc: ) we believe that if the model performs well this difference is affordable. You can check model performance in real life in the following [notebook](https://github.com/EiroaMD/final_project_IH_pneumonia)."
   ]
  }
 ],
 "metadata": {
  "kernelspec": {
   "display_name": "Python 3",
   "language": "python",
   "name": "python3"
  },
  "language_info": {
   "codemirror_mode": {
    "name": "ipython",
    "version": 3
   },
   "file_extension": ".py",
   "mimetype": "text/x-python",
   "name": "python",
   "nbconvert_exporter": "python",
   "pygments_lexer": "ipython3",
   "version": "3.5.3"
  }
 },
 "nbformat": 4,
 "nbformat_minor": 2
}
